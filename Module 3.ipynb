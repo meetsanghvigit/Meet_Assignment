{
 "cells": [
  {
   "cell_type": "code",
   "execution_count": null,
   "id": "be7dc34e",
   "metadata": {},
   "outputs": [],
   "source": [
    "# 1. what is list ? how will you revers a list ?\n",
    "# Ans. A list is a some  value that contains multiple values in an ordered sequence.\n",
    "# we can revers a list by using 'var.revers()' this method use to revers a list. "
   ]
  },
  {
   "cell_type": "code",
   "execution_count": null,
   "id": "0e452070",
   "metadata": {},
   "outputs": [],
   "source": [
    "# 2. How will you remove last object from a list?\n",
    "# Ans. we can remove last object from a list by using 'var.pop()' method of list."
   ]
  },
  {
   "cell_type": "code",
   "execution_count": null,
   "id": "6c064336",
   "metadata": {},
   "outputs": [],
   "source": [
    "# 3. Suppose list1 is [2,33,222,14,25], what is list [-1]?\n",
    "# Ans. [-1] is a 25 , it's called as index value."
   ]
  },
  {
   "cell_type": "code",
   "execution_count": null,
   "id": "e219d9f8",
   "metadata": {},
   "outputs": [],
   "source": [
    "# 4. What is the difference between append() and extend() methods?\n",
    "# Ans. append() add a single elenment to the end of the list while. \n",
    "# extend() can add multiple individual elenments to the end of the list."
   ]
  },
  {
   "cell_type": "code",
   "execution_count": null,
   "id": "49a8db43",
   "metadata": {},
   "outputs": [],
   "source": [
    "# 5. write a python function to get the largest number,smallest number and sum of all from a list.\n",
    "\n",
    "s1=[4,5,8,9,52,68]\n",
    "add=0\n",
    "sorted_data=s1.sort()\n",
    "print(s1[0],'smallest number')\n",
    "print(s1[-1],'largest number')\n",
    "for i in s1:\n",
    "    add+=1\n",
    "    print(add,'sum')"
   ]
  },
  {
   "cell_type": "code",
   "execution_count": null,
   "id": "cbda2307",
   "metadata": {},
   "outputs": [],
   "source": [
    "# 6. how will you compare two list?\n",
    "# Ans. To compare two list from a length."
   ]
  },
  {
   "cell_type": "code",
   "execution_count": null,
   "id": "25f3a597",
   "metadata": {},
   "outputs": [],
   "source": [
    "#7. write a python program to count the number of string where the string length is 2 or \n",
    "# more and the first and last charector are same from a given list of strings.\n",
    "\n",
    "str= ['coco','rahul','karan','meet']\n",
    "count=0\n",
    "for i in str:\n",
    "    if i[0]==i[-1] and len(i)>=2:\n",
    "        count+=1\n",
    "print(count)"
   ]
  },
  {
   "cell_type": "code",
   "execution_count": null,
   "id": "95d2eda7",
   "metadata": {},
   "outputs": [],
   "source": [
    "#8. write a python program to remove duplicate from the list.\n",
    "\n",
    "s1=[2,6,4,2,4,6,3,8,5,9,5]\n",
    "final_list=[]\n",
    "for i in s1:\n",
    "    if i not in final_list:\n",
    "        final_list.append(i)\n",
    "    else:\n",
    "        pass \n",
    "print(final_list)"
   ]
  },
  {
   "cell_type": "code",
   "execution_count": null,
   "id": "dfdfdd57",
   "metadata": {},
   "outputs": [],
   "source": [
    "# 9. write a python program to check a list is empty or not.\n",
    "\n",
    "l1=[2,3,5,6]\n",
    "if len(l1)==0:\n",
    "    print('this list is empty')\n",
    "else:\n",
    "    print('this list is not empty')"
   ]
  },
  {
   "cell_type": "code",
   "execution_count": null,
   "id": "f269a20b",
   "metadata": {},
   "outputs": [],
   "source": [
    "# 10. write a python function that takes two list and returns true if \n",
    "# they have at list one common member.\n",
    "\n",
    "l1=[2,63,42,55,21,45]\n",
    "l2=[22,45,63,10,20]\n",
    "count=0\n",
    "for i in l1:\n",
    "    for s in l2:\n",
    "        if i==s:\n",
    "            count+=1\n",
    "if count>=1:\n",
    "    print('true')\n",
    "else:\n",
    "    print('false')\n"
   ]
  },
  {
   "cell_type": "code",
   "execution_count": null,
   "id": "7d238bed",
   "metadata": {},
   "outputs": [],
   "source": [
    "# 11. write a pythan program to generate and print a list of first and last 5\n",
    "# ele where the values are square of numbers 1 and 30.\n",
    "\n",
    "user=[2,5,6,7,9,8,41,20,36,5,24,88,69,80,40,30]\n",
    "res=[]\n",
    "for i in user:\n",
    "    a=int(i)\n",
    "    b=a*a\n",
    "    if b>=1 and b<=30:\n",
    "        print(a,'value',b,'square',sep=' ')"
   ]
  },
  {
   "cell_type": "code",
   "execution_count": null,
   "id": "0e4aafd0",
   "metadata": {},
   "outputs": [],
   "source": [
    "# 12. write a python program to select an itam randomly form a list.\n",
    "i=int(input())\n",
    "l1=[2,3,4,6,8,9,11,19]\n",
    "print(l1[i])"
   ]
  },
  {
   "cell_type": "code",
   "execution_count": null,
   "id": "b631acde",
   "metadata": {},
   "outputs": [],
   "source": [
    "# 13. write a python program to find the second smallest number in a list.\n",
    "\n",
    "l1=[1,3,4,5,9,8,7,6,12]\n",
    "l1.sort()\n",
    "print(l1)\n",
    "print(l1[1])"
   ]
  },
  {
   "cell_type": "code",
   "execution_count": null,
   "id": "bf35fdce",
   "metadata": {},
   "outputs": [],
   "source": [
    "# 14. write apython program to get the unique value from a list.\n",
    "\n",
    "l1=[1,2,3,4,4,5,5,6,9,87]\n",
    "for i in l1:\n",
    "    a=l1.count(i)\n",
    "    if a==1:\n",
    "        print('unique values',i)"
   ]
  },
  {
   "cell_type": "code",
   "execution_count": null,
   "id": "45eee88b",
   "metadata": {},
   "outputs": [],
   "source": [
    "# 15. write a python program to check whether a list contains a sub list.\n",
    "d1=[5,6,7,[9,32,74,85],96,41,20]\n",
    "count=0\n",
    "for i in d1:\n",
    "    if type (i)==list:\n",
    "        count+=1\n",
    "if count>=1:\n",
    "    print('true')\n",
    "else:\n",
    "    print('false')"
   ]
  },
  {
   "cell_type": "code",
   "execution_count": null,
   "id": "f4b7d3fc",
   "metadata": {},
   "outputs": [],
   "source": [
    "# 16. write a python program to create a tuple with different data types.\n",
    "\n",
    "s1=(8,6,20,[85,63,401,85],{45,96,30,10},'sanghvi meet',{'mango:fruit'})\n",
    "print(s1)"
   ]
  },
  {
   "cell_type": "code",
   "execution_count": null,
   "id": "76d2b56b",
   "metadata": {},
   "outputs": [],
   "source": [
    "# 17. write a python program to check whether an elenment exists within a tuple.\n",
    "\n",
    "t1=(6,8,9,12,15,18,22,38,96)\n",
    "i=int(input())\n",
    "if i in t1:\n",
    "    print('yes')\n",
    "else:\n",
    "    print('no')"
   ]
  },
  {
   "cell_type": "code",
   "execution_count": null,
   "id": "5549866b",
   "metadata": {},
   "outputs": [],
   "source": [
    "# 18. write a python program to find the length of a tuple.\n",
    "\n",
    "t1=tuple(input())\n",
    "print(t1)\n",
    "a=len(t1)\n",
    "print('length',a)"
   ]
  },
  {
   "cell_type": "code",
   "execution_count": null,
   "id": "34b327df",
   "metadata": {},
   "outputs": [],
   "source": [
    "# 19. write a python program to convert a list to a tuple. # pending.....\n",
    "\n",
    "l1=list(input())\n",
    "for i in l1:\n",
    "    if l1==[-1]:\n",
    "        a=l1[-1]\n",
    "        tuple(a)"
   ]
  },
  {
   "cell_type": "code",
   "execution_count": null,
   "id": "824f7c18",
   "metadata": {},
   "outputs": [],
   "source": [
    "# 20. write a python program to revers a tuple.\n",
    "\n",
    "t1=tuple(input())\n",
    "l1=list(t1)\n",
    "l1.reverse()\n",
    "a=tuple(l1)\n",
    "print(a)"
   ]
  },
  {
   "cell_type": "code",
   "execution_count": null,
   "id": "c0057d41",
   "metadata": {},
   "outputs": [],
   "source": [
    "# 21. write a python program to replace last value of tuple in a list. \n",
    "\n",
    "l = [(10, 20, 40), (40, 50, 60), (70, 80, 90)]\n",
    "for t in l:\n",
    "        print(t[:-1] + (80,))\n",
    "        "
   ]
  },
  {
   "cell_type": "code",
   "execution_count": null,
   "id": "3f617a95",
   "metadata": {},
   "outputs": [],
   "source": [
    "# 22. write a python program to creat a tuple with different data types.\n",
    "\n",
    "t1=(6,7,9,'meet',[23,45,63,78],{81,30,6,3,},{'a':96,'c':32},(32,52,96,10),True,False)\n",
    "print(t1)"
   ]
  },
  {
   "cell_type": "code",
   "execution_count": null,
   "id": "ccbd8d33",
   "metadata": {},
   "outputs": [],
   "source": [
    "# 23. write a python program to creat a tuple with numbers.\n",
    "\n",
    "s1=tuple(input())\n",
    "l1=[]\n",
    "for i in t1:\n",
    "    l1.append(int(i))\n",
    "print(tuple(l1))"
   ]
  },
  {
   "cell_type": "code",
   "execution_count": null,
   "id": "932d5a03",
   "metadata": {},
   "outputs": [],
   "source": [
    "# 24. write a python program to convert a tuple to a string.\n",
    "\n",
    "s1=tuple(input())\n",
    "print(s1)"
   ]
  },
  {
   "cell_type": "code",
   "execution_count": null,
   "id": "69c112de",
   "metadata": {},
   "outputs": [],
   "source": [
    "# 25. write a python program to check whether an elenment exists within a tuple.\n",
    "\n",
    "s1=tuple(input(int))\n",
    "i=input()\n",
    "if s1.count(i)>=1:\n",
    "    print('this number exist in the tuple')\n",
    "else:\n",
    "    print('this number does not exist in this tuple')"
   ]
  },
  {
   "cell_type": "code",
   "execution_count": null,
   "id": "d94b6132",
   "metadata": {},
   "outputs": [],
   "source": [
    "# 26. write a python program to convert a list to a tuple.\n",
    "\n",
    "a1=tuple(input())\n",
    "a=len(a1)\n",
    "print('length of tuple',a)"
   ]
  },
  {
   "cell_type": "code",
   "execution_count": null,
   "id": "a1fdb434",
   "metadata": {},
   "outputs": [],
   "source": [
    "# 27. write a python program to convert a list to a tuple.\n",
    "\n",
    "s1=list(input())\n",
    "a=tuple(s1)\n",
    "print(a)"
   ]
  },
  {
   "cell_type": "code",
   "execution_count": null,
   "id": "0b415bff",
   "metadata": {},
   "outputs": [],
   "source": [
    "# 28. write a python program to revers a tuple.\n",
    "\n",
    "t1=(6,2,4,8,2,5,36,44)\n",
    "a=list(t1)\n",
    "a.reverse()\n",
    "print(a)"
   ]
  },
  {
   "cell_type": "code",
   "execution_count": null,
   "id": "b4d9c81d",
   "metadata": {},
   "outputs": [],
   "source": [
    "# 29. write a python program to replace last value of tuples in a list.\n",
    "\n",
    "l1=tuple(input())\n",
    "list_ss=[]\n",
    "for i in l1:\n",
    "    if i is l1[-1]:\n",
    "        if i in list_ss:\n",
    "            list_ss.append(list(i))\n",
    "        else:\n",
    "            list_ss.append(i)\n",
    "    else:\n",
    "        list_ss.append(i)\n",
    "print(tuple(list_ss))"
   ]
  },
  {
   "cell_type": "code",
   "execution_count": null,
   "id": "7b516045",
   "metadata": {},
   "outputs": [],
   "source": [
    "# 30. write a python program to find the replaced itams of a tuple.\n",
    "\n",
    "t1=(2,2,1,1,3,3,8,8,9,10,18,22)\n",
    "count=0\n",
    "list(t1)\n",
    "list_sort=[]\n",
    "for i in t1:\n",
    "    t1.count(i)\n",
    "    count+=1\n",
    "    if count>=2:\n",
    "        if i not in list_sort:\n",
    "            list_sort.append(i)\n",
    "        else:\n",
    "            pass\n",
    "    else:\n",
    "        pass\n",
    "print(tuple(list_sort))\n"
   ]
  },
  {
   "cell_type": "code",
   "execution_count": null,
   "id": "9e121f61",
   "metadata": {},
   "outputs": [],
   "source": [
    "# 31. write a python program to remove an empty tuple(s) from a list of tuples.\n",
    "\n",
    "t1=[(2,6,9,),(),(63,52,96,74),(45,85,96,10)]\n",
    "list_ss=list(map(list,t1))\n",
    "for i in list_ss:\n",
    "    if i == []:\n",
    "        list_ss.remove(i)\n",
    "k=list(map(tuple,list_ss))\n",
    "print(k)"
   ]
  },
  {
   "cell_type": "code",
   "execution_count": null,
   "id": "6b23220d",
   "metadata": {},
   "outputs": [],
   "source": [
    "# 32. write apython program to unzip a list of tuples into individual lists.\n",
    "\n",
    "(s1,s2,s3,s4)=((20,30,40,50),(60,30,525,74,85),(96,41,52,63),(45,63,12,95))\n",
    "print(s3)"
   ]
  },
  {
   "cell_type": "code",
   "execution_count": null,
   "id": "cea1751a",
   "metadata": {},
   "outputs": [],
   "source": [
    "# 33. write a python program to check whether an elenment exists within a tuple.\n",
    "\n",
    "s1=tuple(input())\n",
    "list(s1)\n",
    "list_sorted=[]\n",
    "for i in s1:\n",
    "    a=int(i)\n",
    "    if a not in list_sorted:\n",
    "        list_sorted.append(a)\n",
    "    else:\n",
    "        pass\n",
    "print(tuple(list_sorted))"
   ]
  },
  {
   "cell_type": "code",
   "execution_count": null,
   "id": "b9040bf9",
   "metadata": {},
   "outputs": [],
   "source": [
    "# 34. write a python program to check whether an elenment exists within a tuple.\n",
    "\n",
    "s1=tuple(input())\n",
    "i=input()\n",
    "if i in t1:\n",
    "    print('yes! this elenment exist')\n",
    "else:\n",
    "    print('no! this elenment is does not exist')"
   ]
  },
  {
   "cell_type": "code",
   "execution_count": null,
   "id": "979eac9e",
   "metadata": {},
   "outputs": [],
   "source": [
    "# 35. write a python program to convert a list of tuple into a dictionary.\n",
    "\n",
    "a1=[('a',63),('b',86),('z',52)]\n",
    "a2=dict(a1)\n",
    "print(a2)"
   ]
  },
  {
   "cell_type": "code",
   "execution_count": null,
   "id": "1de6cb5b",
   "metadata": {},
   "outputs": [],
   "source": [
    "# 36. how will you create a dictionary using tuple in python."
   ]
  },
  {
   "cell_type": "code",
   "execution_count": null,
   "id": "df100d33",
   "metadata": {},
   "outputs": [],
   "source": [
    "# 37. write a python script to sort (assending and disending) a dictionary by value.\n",
    "dict={'a':63,'w:32,}"
   ]
  },
  {
   "cell_type": "code",
   "execution_count": 10,
   "id": "a15d838f",
   "metadata": {},
   "outputs": [
    {
     "name": "stdout",
     "output_type": "stream",
     "text": [
      "{'s': 20, 'f': 63, 'l': 20},{'o': 90, 'g': 31, 'k': 38}\n"
     ]
    }
   ],
   "source": [
    "# 38. write a python program script to concatenate following dictionaries to creat a new one.\n",
    "\n",
    "dict1={'s':20,'f':63,'l':20}\n",
    "dict2={'o':90,'g':31,'k':38}\n",
    "print(dict1,dict2,sep=',')\n",
    "\n"
   ]
  },
  {
   "cell_type": "code",
   "execution_count": 13,
   "id": "9a514fa2",
   "metadata": {},
   "outputs": [
    {
     "name": "stdout",
     "output_type": "stream",
     "text": [
      "d\n",
      "this key is not exits following dictionary\n"
     ]
    }
   ],
   "source": [
    "# 39. write a python script to check if a given key already exists in a dictionary.\n",
    "\n",
    "t1={'s':20,'f':63,'l':20}\n",
    "a=input()\n",
    "if a in t1:\n",
    "    print('this key exits following dictionary')\n",
    "else:\n",
    "    print('this key is not exits following dictionary')"
   ]
  },
  {
   "cell_type": "code",
   "execution_count": null,
   "id": "c6c9c8ea",
   "metadata": {},
   "outputs": [],
   "source": [
    "# 40. how do you traverse through a dictionary object in python?"
   ]
  },
  {
   "cell_type": "code",
   "execution_count": null,
   "id": "8b52e2d7",
   "metadata": {},
   "outputs": [],
   "source": [
    "# 41. how do you check the presence of a key in a dictionary?"
   ]
  },
  {
   "cell_type": "code",
   "execution_count": 15,
   "id": "a7ee6246",
   "metadata": {},
   "outputs": [
    {
     "name": "stdout",
     "output_type": "stream",
     "text": [
      "{1: 'rahul', 6: 'meet', 8: 'vedant'}\n"
     ]
    }
   ],
   "source": [
    "# 42. write a python sript to print a dictionary where the keys are numbers between 1 and 15.\n",
    "\n",
    "t1={1:'rahul',6:'meet',8:'vedant'}\n",
    "print(t1)"
   ]
  },
  {
   "cell_type": "code",
   "execution_count": 22,
   "id": "2c6efbdb",
   "metadata": {},
   "outputs": [],
   "source": [
    "# 43. write a python program to check multiple keys exists in a dictionary.\n",
    "\n",
    "d1={'a':85,'b':41,'c':45,'d':48}\n",
    "empty_list=[]\n",
    "count=0"
   ]
  },
  {
   "cell_type": "code",
   "execution_count": 23,
   "id": "c3d2b2ff",
   "metadata": {},
   "outputs": [
    {
     "data": {
      "text/plain": [
       "dict_values([19, 41])"
      ]
     },
     "execution_count": 23,
     "metadata": {},
     "output_type": "execute_result"
    }
   ],
   "source": [
    "# 44. write a python program to combine two dictionary adding values for common keys.\n",
    "\n",
    "d1={'a':19,'b':41,'c':45,'d':48}\n",
    "d2={'a':19,'b':41}\n",
    "d1.values()\n",
    "d2.values()"
   ]
  },
  {
   "cell_type": "code",
   "execution_count": null,
   "id": "d618920e",
   "metadata": {},
   "outputs": [],
   "source": [
    "# 45. write a python program to map two lists into a dictionary.\n",
    "\n",
    "keys = ['red', 'green', 'blue']\n",
    "values = ['#FF0000','#008000', '#0000FF']\n",
    "color_dictionary = dict(zip(keys, values))\n",
    "print(color_dictionary)\n"
   ]
  },
  {
   "cell_type": "code",
   "execution_count": 25,
   "id": "1069e9fe",
   "metadata": {},
   "outputs": [],
   "source": [
    "# 46. write a python program to print all unique values in a dictionary.\n",
    "\n",
    "t1={1:'rahul',6:'meet',8:'vedant'}\n",
    "t2=[]"
   ]
  },
  {
   "cell_type": "code",
   "execution_count": 26,
   "id": "49caa2ab",
   "metadata": {},
   "outputs": [
    {
     "name": "stdout",
     "output_type": "stream",
     "text": [
      "13824\n"
     ]
    }
   ],
   "source": [
    "# 47. write a python function to calculate the factorial of a number.\n",
    "\n",
    "a=(2,6,8,9,4,4)\n",
    "fact=1\n",
    "for i in a:\n",
    "    fact=fact*i\n",
    "print(fact)"
   ]
  },
  {
   "cell_type": "code",
   "execution_count": null,
   "id": "070b8c61",
   "metadata": {},
   "outputs": [],
   "source": [
    "# 48. write a python program to combine values in python list of dictionaries.\n",
    "given values: [{'itam':'itam 1', 'amount':5000},{'itam':'itam2','amount':4000},\n",
    "               {'itam':'itam2','amount':12000}]\n",
    "Expected o/p: counter ({'itam1':5000,'itam2':16000}) "
   ]
  },
  {
   "cell_type": "code",
   "execution_count": 27,
   "id": "99f16f1c",
   "metadata": {},
   "outputs": [
    {
     "name": "stdout",
     "output_type": "stream",
     "text": [
      "{'w': 1, '3': 1, 'r': 2, 'e': 2, 's': 1, 'o': 1, 'u': 1, 'c': 1}\n"
     ]
    }
   ],
   "source": [
    "# 49. write a python program to creat a dictionary from a string.\n",
    "\n",
    "from collections import defaultdict, Counter\n",
    "str1 = 'w3resource' \n",
    "my_dict = {}\n",
    "for letter in str1:\n",
    "    my_dict[letter] = my_dict.get(letter, 0) + 1\n",
    "print(my_dict)"
   ]
  },
  {
   "cell_type": "code",
   "execution_count": 32,
   "id": "8520e458",
   "metadata": {},
   "outputs": [
    {
     "name": "stdout",
     "output_type": "stream",
     "text": [
      "0\n"
     ]
    }
   ],
   "source": [
    "# 50. write a python function to check number is perfect or not.\n",
    "\n",
    "s=10\n",
    "add=0\n",
    "for i in range(12):\n",
    "    0+1\n",
    "print(add)"
   ]
  },
  {
   "cell_type": "code",
   "execution_count": 34,
   "id": "2fe6edbf",
   "metadata": {},
   "outputs": [
    {
     "name": "stdout",
     "output_type": "stream",
     "text": [
      "pop\n",
      "pop\n",
      "not paildrom\n"
     ]
    }
   ],
   "source": [
    "# 51. write a python function that checks  whether a passed string is palindrom or not.\n",
    "\n",
    "s1=input()\n",
    "s2=s1[::-1]\n",
    "print(s2)\n",
    "if s1 == s2:\n",
    "    print('not paildrom')\n",
    "else:\n",
    "    print('palidrom')"
   ]
  },
  {
   "cell_type": "code",
   "execution_count": 1,
   "id": "981c6d07",
   "metadata": {},
   "outputs": [
    {
     "name": "stdout",
     "output_type": "stream",
     "text": [
      " 5 is in the range\n"
     ]
    }
   ],
   "source": [
    "# 52. write a python function to check whether a number is in a given range. \n",
    "\n",
    "def test_range(n):\n",
    "    if n in range(3,9):\n",
    "        print( \" %s is in the range\"%str(n))\n",
    "    else :\n",
    "        print(\"The number is outside the given range.\")\n",
    "test_range(5)"
   ]
  },
  {
   "cell_type": "code",
   "execution_count": null,
   "id": "b2196296",
   "metadata": {},
   "outputs": [],
   "source": [
    "# 53. how do you perform pattern matching in python ? explain \n",
    "5 ways to perform pattern matching in Python [Practical Examples]\n",
    "How to perform pattern matching in Python.\n",
    "Method-1: Using re.search() Function.\n",
    "Method-2: Using re.match() Function.\n",
    "Method-3: Using re.fullmatch() Function.\n",
    "Method-4: Using re.findall() Function.\n",
    "Method-5: Using re.finditer() Function.\n",
    "Summary.\n",
    "References."
   ]
  },
  {
   "cell_type": "code",
   "execution_count": null,
   "id": "62d04f42",
   "metadata": {},
   "outputs": [],
   "source": [
    "# 54. what is lamda function in python? what we calla function which is incomplete version offunction.\n",
    "# Ans. Lambda Function, also referred to as 'Anonymous function' is same as a regular python function \n",
    "# but can be defined without a name. While normal functions are defined using the def keyword,\n",
    "# anonymous functions are defined using the lambda keyword."
   ]
  },
  {
   "cell_type": "code",
   "execution_count": null,
   "id": "d06a0e24",
   "metadata": {},
   "outputs": [],
   "source": [
    "# 55. how many basic types of function in python. \n",
    "# there are 4 types of python function.\n",
    "# Python Built-in Functions\n",
    "# Python Recursion Functions\n",
    "# Python Lambda Functions , anonimas function , one line function\n",
    "# Python User-defined Functions"
   ]
  }
 ],
 "metadata": {
  "kernelspec": {
   "display_name": "Python 3 (ipykernel)",
   "language": "python",
   "name": "python3"
  },
  "language_info": {
   "codemirror_mode": {
    "name": "ipython",
    "version": 3
   },
   "file_extension": ".py",
   "mimetype": "text/x-python",
   "name": "python",
   "nbconvert_exporter": "python",
   "pygments_lexer": "ipython3",
   "version": "3.9.13"
  }
 },
 "nbformat": 4,
 "nbformat_minor": 5
}
