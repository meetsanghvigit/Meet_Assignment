{
 "cells": [
  {
   "cell_type": "code",
   "execution_count": null,
   "id": "714e70b7",
   "metadata": {},
   "outputs": [],
   "source": [
    "# 1. write a python program to check if number positive , negative or zero .\n",
    "\n",
    "num=int(input('enter the value'))\n",
    "if num == 0:\n",
    "    print('number is zero')\n",
    "if num <= 0 :\n",
    "    print('number is negative')\n",
    "if num >= 0 :\n",
    "    print ('number is positive')"
   ]
  },
  {
   "cell_type": "code",
   "execution_count": null,
   "id": "d92e58a0",
   "metadata": {},
   "outputs": [],
   "source": [
    "# 2. write a pythan program to get the factorial number of given number.\n",
    "\n",
    "num=int(input('enter the number'))\n",
    "n=1\n",
    "for i in range (num,0,-1):\n",
    "    n=n*i\n",
    "print(n)"
   ]
  },
  {
   "cell_type": "code",
   "execution_count": null,
   "id": "935123ff",
   "metadata": {},
   "outputs": [],
   "source": [
    "# 3. febonaki series\n",
    "\n",
    "n1=0\n",
    "n2=1\n",
    "sum=0\n",
    "num=int(input('enter the number'))\n",
    "if num <= 0 :\n",
    "    print('enter the positive integer')\n",
    "else:\n",
    "    for i in range (0,num):\n",
    "        print(sum,end=' ')\n",
    "        n1=n2\n",
    "        n2=sum\n",
    "        sum=n1+n2"
   ]
  },
  {
   "cell_type": "code",
   "execution_count": null,
   "id": "da5a637b",
   "metadata": {},
   "outputs": [],
   "source": [
    "# 4. how memory  is managed in python?"
   ]
  },
  {
   "cell_type": "code",
   "execution_count": null,
   "id": "1419cbc2",
   "metadata": {},
   "outputs": [],
   "source": [
    "# 5. purpose if continue statenment:\n",
    "\n",
    "# it is a control statenment.\n",
    "# it skips (leaves) the current itration , continues from the next iteration. "
   ]
  },
  {
   "cell_type": "code",
   "execution_count": null,
   "id": "37bc9478",
   "metadata": {},
   "outputs": [],
   "source": [
    "# 6. swap two numbers \n",
    "\n",
    "a=int(input('enter the number'))\n",
    "b=int(input('enter the number'))\n",
    "if a!=b:\n",
    "    a=a+b\n",
    "    b=a-b\n",
    "    a=a-b\n",
    "print()\n",
    "print(a)\n",
    "print(b)\n"
   ]
  },
  {
   "cell_type": "code",
   "execution_count": null,
   "id": "92cb93a1",
   "metadata": {},
   "outputs": [],
   "source": [
    "# 7. find the even or odd number .\n",
    "\n",
    "num=int(input('enter the number'))\n",
    "if num%2==0:\n",
    "    print('even number')\n",
    "else:\n",
    "    print('odd number')\n"
   ]
  },
  {
   "cell_type": "code",
   "execution_count": null,
   "id": "0ebf6112",
   "metadata": {},
   "outputs": [],
   "source": [
    "# 8. write a python program to test whether a passed letter is vowel or not.\n",
    "\n",
    "num=(input('enter any character'))\n",
    "if num in ('a','e','i','o','u','A','E','I','O','U'):\n",
    "    print('number is vowel')\n",
    "else:\n",
    "    print('number is consonent')\n"
   ]
  },
  {
   "cell_type": "code",
   "execution_count": null,
   "id": "3e931250",
   "metadata": {},
   "outputs": [],
   "source": [
    "# 9. write a python program to sum of three given integers, however if two values are equal sum will be zero.\n",
    "\n",
    "n1=int(input('enter no.1 ='))\n",
    "n2=int(input('enter no.2 ='))\n",
    "n3=int(input('enter no.3 ='))\n",
    "if n1==n2 or n2==n3 or n3==n1:\n",
    "    print('zero')\n",
    "else:\n",
    "    sum=n1+n2+n3\n",
    "    print(sum)"
   ]
  },
  {
   "cell_type": "code",
   "execution_count": null,
   "id": "768443f3",
   "metadata": {},
   "outputs": [],
   "source": [
    "# 10. write a python program that will return true if the two given integervalues are equal or their sum or difference is 5.\n",
    "\n",
    "a=int(input('enter no 1'))\n",
    "b=int(input('enter no 2'))\n",
    "sum=a+b\n",
    "c=a-b\n",
    "d=b-a\n",
    "if a==b:\n",
    "    print('true')\n",
    "elif sum==5:\n",
    "    print('true')\n",
    "elif c==5:\n",
    "    print('true')\n",
    "elif d==5:\n",
    "    print('true')\n",
    "else:\n",
    "    print('false')"
   ]
  },
  {
   "cell_type": "code",
   "execution_count": null,
   "id": "9f83dd2c",
   "metadata": {},
   "outputs": [],
   "source": [
    "# 11. sum of first n positive integers \n",
    "\n",
    "num=int(input('enter the number'))\n",
    "sum=int((num*(num+1))/2)\n",
    "print('sum of given number',num,'is:',sum)\n",
    "\n"
   ]
  },
  {
   "cell_type": "code",
   "execution_count": null,
   "id": "8cc833fb",
   "metadata": {},
   "outputs": [],
   "source": [
    "# 12. write a python program to calculate the length of a string.\n",
    "\n",
    "s1=input('enter a string')\n",
    "s=len(s1)\n",
    "print('length of a string is:',s)"
   ]
  },
  {
   "cell_type": "code",
   "execution_count": null,
   "id": "6bcd0ee9",
   "metadata": {},
   "outputs": [],
   "source": [
    "# 13. write a python program to count the number of characters in a string.\n",
    "\n",
    "str=input('enter a string')\n",
    "for i in str:\n",
    "    if i.isalpha():\n",
    "        f=str.count(i)\n",
    "        print(i,':',f)"
   ]
  },
  {
   "cell_type": "code",
   "execution_count": null,
   "id": "d1009177",
   "metadata": {},
   "outputs": [],
   "source": [
    "# 14. what are the negative index and why are they used?\n",
    "\n",
    "# negative indexing starts from where the array ends.\n",
    "# to access the last elenment of charactor of a string or array nagative indexing is used.\n",
    "#it is generally used to find the index value of a charactor or elenment\n",
    "#for last elenment starts from -1, for second last elenment is -2 ans so on its values decreases the end numbers of string.\n",
    "\n"
   ]
  },
  {
   "cell_type": "code",
   "execution_count": null,
   "id": "bccad03b",
   "metadata": {},
   "outputs": [],
   "source": [
    "# 15. write a python program to count occurrences of a substring in a string.\n",
    "\n",
    "str=input('enter the string')\n",
    "find = input('enter a charactar to check its repetition')\n",
    "ans =str.count(find)\n",
    "print(ans)"
   ]
  },
  {
   "cell_type": "code",
   "execution_count": null,
   "id": "a20433da",
   "metadata": {},
   "outputs": [],
   "source": [
    "# 16. write a python program to count the occurrence of each word in a given sentence.\n",
    "\n",
    "str=input('enter the string')\n",
    "spl=str.split()\n",
    "for i in spl:\n",
    "    if i.isalpha():\n",
    "        ans=spl.count(i)\n",
    "        print(i,':',ans)"
   ]
  },
  {
   "cell_type": "code",
   "execution_count": null,
   "id": "772f747d",
   "metadata": {},
   "outputs": [],
   "source": [
    "# 17. write a python program to get a single string from two given string,\n",
    "#     seprate by a space and swap the first two charactors of each string\n",
    "\n",
    "str1=input('enter the string 1')\n",
    "str2=input('enter the string 2')\n",
    "f1=str1[0:2]\n",
    "f2=str2[0:2]\n",
    "ans1=str1.replace(f1,f2)\n",
    "ans2=str2.replace(f2,f1)\n",
    "print(ans1,ans2)"
   ]
  },
  {
   "cell_type": "code",
   "execution_count": null,
   "id": "89bcbe43",
   "metadata": {},
   "outputs": [],
   "source": [
    "# 18. write a python program to odd 'ing' at the end of a given string (lemgth should be at least 3)\n",
    "# if the given string already ends with 'ing' then add 'ly'\n",
    "# instead if the string length of the given string is less then 3,leave it unchanged.\n",
    "\n",
    "str=input('enter a string')\n",
    "a='ing'\n",
    "if len (str)>3 and str.endswith('ing'):\n",
    "    ans1=str.replace('ing','ly')\n",
    "    print(ans1)\n",
    "elif len(str)>3 and str.endwith!=a:\n",
    "    ans2= f '{str}{a}'\n",
    "    print(ans2)\n",
    "elif len (str)<=3:\n",
    "    print(str)"
   ]
  },
  {
   "cell_type": "code",
   "execution_count": null,
   "id": "7a7e9992",
   "metadata": {},
   "outputs": [],
   "source": [
    "# 19. write a python program to find the first apperance of the substring 'not' and 'poor' form a given string ,\n",
    "#     if 'not' follows the 'poor' , replace the whole 'not' ..'poor' substring with 'good' return the resulting string.\n",
    "\n",
    "str=input('enter the string')\n",
    "a=str.index ('not')\n",
    "b=str.rindex('poor')\n",
    "c=b+4\n",
    "d=str[a:c]\n",
    "ans=str.replace(d,'good')\n",
    "if a<b:\n",
    "    print(ans)"
   ]
  },
  {
   "cell_type": "code",
   "execution_count": null,
   "id": "de24b77b",
   "metadata": {},
   "outputs": [],
   "source": [
    "#20 write a python program function that takes a list of words and returns the lenghth of the longest one.\n",
    "\n",
    "str=input('enter the string')\n",
    "length=0\n",
    "for i in str.split():\n",
    "    if len (i)>length:\n",
    "        length=len(i)\n",
    "        longest_word=i\n",
    "print('the longest word is:',longest_word)\n",
    "print('length is',len(longest_word))\n"
   ]
  },
  {
   "cell_type": "code",
   "execution_count": null,
   "id": "4a788b5b",
   "metadata": {},
   "outputs": [],
   "source": [
    "# 21. write a python function function to reverser a string if its length is a multiple of 4 \n",
    "\n",
    "str1=input('enter a string')\n",
    "str2=len(str1)\n",
    "if str2%4==0:\n",
    "    print(str1[::-1])\n",
    "else:\n",
    "    print('0')"
   ]
  },
  {
   "cell_type": "code",
   "execution_count": null,
   "id": "64ea3b40",
   "metadata": {},
   "outputs": [],
   "source": [
    "# 22. write a python function to insert a string in the middle of a string.\n",
    "\n",
    "str=input('enter a strig')\n",
    "str=input('enter a substring to add in middle of a string')\n",
    "mid = len(str)//2\n",
    "a=str[:mid]\n",
    "b=str[:mid]\n",
    "ans=f '{a}{str2}{b}'\n",
    "print(ans)"
   ]
  },
  {
   "cell_type": "code",
   "execution_count": null,
   "id": "e8ccc960",
   "metadata": {},
   "outputs": [],
   "source": [
    "# 23. write a python program to get a string mode of the first 2 and the last 2 chars a given a string.\n",
    "# if the string length is lessthan 2, return 'empty string'\n",
    "# 0 simple string : w3resource\n",
    "# 0 expected result:'w3ce'\n",
    "# 0 sample string:'w3'\n",
    "# 0 expected result : 'w3w3'\n",
    "# 0 expected string:'w'\n",
    "#0 expected result: emoty string\n",
    "\n",
    "str= input('enter a string')\n",
    "firsttwo=str[0:2]\n",
    "lasttwo=str[-2:]\n",
    "res=firsttwo+lasttwo\n",
    "if len(str)<2:\n",
    "    print('empty string')\n",
    "elif lrn (str)==2:\n",
    "    print(str*2)\n",
    "elif len (str)>=3:\n",
    "    print(firsttwo,lasttwo,sep='')"
   ]
  },
  {
   "cell_type": "code",
   "execution_count": null,
   "id": "482ea1de",
   "metadata": {},
   "outputs": [],
   "source": []
  },
  {
   "cell_type": "code",
   "execution_count": null,
   "id": "9b0d603f",
   "metadata": {},
   "outputs": [],
   "source": []
  },
  {
   "cell_type": "code",
   "execution_count": null,
   "id": "97e1c224",
   "metadata": {},
   "outputs": [],
   "source": []
  }
 ],
 "metadata": {
  "kernelspec": {
   "display_name": "Python 3 (ipykernel)",
   "language": "python",
   "name": "python3"
  },
  "language_info": {
   "codemirror_mode": {
    "name": "ipython",
    "version": 3
   },
   "file_extension": ".py",
   "mimetype": "text/x-python",
   "name": "python",
   "nbconvert_exporter": "python",
   "pygments_lexer": "ipython3",
   "version": "3.9.13"
  }
 },
 "nbformat": 4,
 "nbformat_minor": 5
}
